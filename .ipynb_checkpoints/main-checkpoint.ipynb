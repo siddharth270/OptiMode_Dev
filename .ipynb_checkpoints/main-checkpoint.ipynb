{
 "cells": [
  {
   "cell_type": "code",
   "execution_count": 3,
   "id": "d877c5ad-b508-41e6-a146-cfa5c80019f1",
   "metadata": {},
   "outputs": [],
   "source": [
    "# imports|"
   ]
  },
  {
   "cell_type": "code",
   "execution_count": 4,
   "id": "421209f7-2c89-4970-9411-8419c16c6526",
   "metadata": {},
   "outputs": [],
   "source": [
    "# functions\n"
   ]
  },
  {
   "cell_type": "code",
   "execution_count": 6,
   "id": "cd230a29-bb77-4c10-a90d-c3b276d644b2",
   "metadata": {},
   "outputs": [],
   "source": [
    "# variables"
   ]
  },
  {
   "cell_type": "code",
   "execution_count": null,
   "id": "c34410f4-8073-46d2-ae7d-1402d89b7833",
   "metadata": {},
   "outputs": [],
   "source": [
    "# main"
   ]
  }
 ],
 "metadata": {
  "kernelspec": {
   "display_name": "Python 3 (ipykernel)",
   "language": "python",
   "name": "python3"
  },
  "language_info": {
   "codemirror_mode": {
    "name": "ipython",
    "version": 3
   },
   "file_extension": ".py",
   "mimetype": "text/x-python",
   "name": "python",
   "nbconvert_exporter": "python",
   "pygments_lexer": "ipython3",
   "version": "3.12.6"
  }
 },
 "nbformat": 4,
 "nbformat_minor": 5
}
